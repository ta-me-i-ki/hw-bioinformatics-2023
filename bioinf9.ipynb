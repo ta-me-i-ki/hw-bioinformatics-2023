{
 "cells": [
  {
   "cell_type": "code",
   "execution_count": 7,
   "id": "e1db4040",
   "metadata": {},
   "outputs": [
    {
     "name": "stdout",
     "output_type": "stream",
     "text": [
      "True\n",
      "2.584763023556621e-93\n"
     ]
    }
   ],
   "source": [
    "import scipy.stats as sps\n",
    "\n",
    "# Н0 - такое число общих мишеней можно увидеть случайно \n",
    "\n",
    "M = 20000\n",
    "N = 100\n",
    "n = 100\n",
    "k = 50\n",
    "\n",
    "p = sps.hypergeom(M, N, n).sf(k-1)\n",
    "print(p < 0.05)\n",
    "print(p)\n",
    "\n",
    "# число получается маленькое, значит, мы отвергаем гипотезу и общее число мишеней статистически значимо \n",
    "# и транскрипционные факторы A и B, вероятно, связаны"
   ]
  },
  {
   "cell_type": "code",
   "execution_count": 8,
   "id": "0fb1af0e",
   "metadata": {},
   "outputs": [
    {
     "name": "stdout",
     "output_type": "stream",
     "text": [
      "(1.0833333333333333, 0.004878795768869795)\n"
     ]
    }
   ],
   "source": [
    "import scipy.stats as sps\n",
    "from scipy.stats import *\n",
    "\n",
    "cont_table = [[5200, 4800], [5000, 5000]]\n",
    "\n",
    "print(fisher_exact(cont_table))\n",
    "\n",
    "# р-value очень маленький (меньше 0.05) => отличие статистически значимо\n",
    "# эффективность: шанс выздороветь увеличился в 1.08 раза"
   ]
  }
 ],
 "metadata": {
  "kernelspec": {
   "display_name": "Python 3 (ipykernel)",
   "language": "python",
   "name": "python3"
  },
  "language_info": {
   "codemirror_mode": {
    "name": "ipython",
    "version": 3
   },
   "file_extension": ".py",
   "mimetype": "text/x-python",
   "name": "python",
   "nbconvert_exporter": "python",
   "pygments_lexer": "ipython3",
   "version": "3.11.7"
  }
 },
 "nbformat": 4,
 "nbformat_minor": 5
}
