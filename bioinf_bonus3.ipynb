{
 "cells": [
  {
   "cell_type": "code",
   "execution_count": 11,
   "id": "7e4fee31",
   "metadata": {},
   "outputs": [
    {
     "name": "stdout",
     "output_type": "stream",
     "text": [
      "Размер массива: 100\n",
      "Медиана: 468\n",
      "Время выполнения: 0.0\n",
      "Размер массива: 1000\n",
      "Медиана: 485\n",
      "Время выполнения: 0.002992868423461914\n"
     ]
    }
   ],
   "source": [
    "import random\n",
    "import time\n",
    "from random import randint\n",
    "\n",
    "def swap(nums, i, j):\n",
    "    temp = nums[i]\n",
    "    nums[i] = nums[j]\n",
    "    nums[j] = temp\n",
    " \n",
    " \n",
    "def partition(nums, left, right, pIndex):\n",
    "    pivot = nums[pIndex]\n",
    "    swap(nums, pIndex, right)\n",
    "    pIndex = left\n",
    "    for i in range(left, right):\n",
    "        if nums[i] <= pivot:\n",
    "            swap(nums, i, pIndex)\n",
    "            pIndex = pIndex + 1\n",
    "    swap(nums, pIndex, right)\n",
    "    return pIndex\n",
    " \n",
    "\n",
    "def quickSelect(nums, left, right, k):\n",
    "    if left == right:\n",
    "        return nums[left]\n",
    "    pIndex = randint(left, right)\n",
    " \n",
    "    pIndex = partition(nums, left, right, pIndex)\n",
    "    if k == pIndex:\n",
    "        return nums[k]\n",
    "    elif k < pIndex:\n",
    "        return quickSelect(nums, left, pIndex - 1, k)\n",
    "    else:\n",
    "        return quickSelect(nums, pIndex + 1, right, k)\n",
    "\n",
    "\n",
    "sizes = [100, 1000]  \n",
    "\n",
    "for size in sizes:\n",
    "    numbers = [random.randint(1, 1000) for _ in range(size)]\n",
    "    \n",
    "    start_time = time.time()\n",
    "    median = quickSelect(numbers, 0, len(numbers) - 1, size // 2)  \n",
    "    end_time = time.time()\n",
    "    \n",
    "    print(\"Размер массива:\", size)\n",
    "    print(\"Медиана:\", median)\n",
    "    print(\"Время выполнения:\", end_time - start_time)"
   ]
  },
  {
   "cell_type": "code",
   "execution_count": 9,
   "id": "40294f22",
   "metadata": {},
   "outputs": [
    {
     "name": "stdout",
     "output_type": "stream",
     "text": [
      "Размер массива: 100\n",
      "Медиана: 507\n",
      "Время выполнения: 0.0\n",
      "Размер массива: 1000\n",
      "Медиана: 506\n",
      "Время выполнения: 0.0009963512420654297\n",
      "Размер массива: 10000\n",
      "Медиана: 498\n",
      "Время выполнения: 0.016912221908569336\n",
      "Размер массива: 100000\n",
      "Медиана: 503\n",
      "Время выполнения: 0.06564044952392578\n"
     ]
    }
   ],
   "source": [
    "import random\n",
    "import time\n",
    "\n",
    "def quickselect(nums, k):\n",
    "    if len(nums) == 1:\n",
    "        return nums[0]\n",
    "    \n",
    "    pivot = random.choice(nums)\n",
    "    lows = [num for num in nums if num < pivot]\n",
    "    highs = [num for num in nums if num > pivot]\n",
    "    pivots = [num for num in nums if num == pivot]\n",
    "\n",
    "    if k < len(lows):\n",
    "        return quickselect(lows, k)\n",
    "    elif k < len(lows) + len(pivots):\n",
    "        return pivots[0]\n",
    "    else:\n",
    "        return quickselect(highs, k - len(lows) - len(pivots))\n",
    "\n",
    "sizes = [100, 1000, 10000, 100000]  \n",
    "\n",
    "for size in sizes:\n",
    "    numbers = [random.randint(1, 1000) for _ in range(size)]\n",
    "    \n",
    "    start_time = time.time()\n",
    "    median = quickselect(numbers, size // 2)  \n",
    "    end_time = time.time()\n",
    "    \n",
    "    print(\"Размер массива:\", size)\n",
    "    print(\"Медиана:\", median)\n",
    "    print(\"Время выполнения:\", end_time - start_time)"
   ]
  },
  {
   "cell_type": "code",
   "execution_count": null,
   "id": "049f3082",
   "metadata": {},
   "outputs": [],
   "source": [
    "xmediana = quickSelect(x, 0, len(x) - 1, k - 1)\n",
    "if x.count(xmediana) > 1:\n",
    "    yforx = []\n",
    "    for i in range (len(x)):\n",
    "        if x[i] == xmediana:\n",
    "            yforx.append(y[i])\n",
    "    if len(yforx)%2==0:\n",
    "        k = len(yforx)/2\n",
    "    else:\n",
    "        k = len(yforx)/2 + 0.5\n",
    "\n",
    "    ymediana = quickSelect (yforx, 0, len(yforx) - 1, k-1)\n",
    "    print((xmediana, ymediana))\n",
    "else:\n",
    "    print(xmediana)"
   ]
  }
 ],
 "metadata": {
  "kernelspec": {
   "display_name": "Python 3 (ipykernel)",
   "language": "python",
   "name": "python3"
  },
  "language_info": {
   "codemirror_mode": {
    "name": "ipython",
    "version": 3
   },
   "file_extension": ".py",
   "mimetype": "text/x-python",
   "name": "python",
   "nbconvert_exporter": "python",
   "pygments_lexer": "ipython3",
   "version": "3.11.7"
  }
 },
 "nbformat": 4,
 "nbformat_minor": 5
}
