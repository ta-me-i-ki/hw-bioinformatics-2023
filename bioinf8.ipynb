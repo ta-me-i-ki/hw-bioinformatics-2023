{
 "cells": [
  {
   "cell_type": "code",
   "execution_count": 11,
   "id": "304075cb",
   "metadata": {},
   "outputs": [
    {
     "name": "stdout",
     "output_type": "stream",
     "text": [
      "Ttest_relResult(statistic=-5.000000000000001, pvalue=0.03774955135062371)\n",
      "Ttest_indResult(statistic=-0.8980265101338741, pvalue=0.41993981466604885)\n"
     ]
    }
   ],
   "source": [
    "from scipy.stats import ttest_ind, ttest_rel\n",
    "\n",
    "X = [3, 4, 5]\n",
    "Y = [3.5, 5, 6]\n",
    "\n",
    "print(ttest_rel(X, Y))\n",
    "print(ttest_ind(X, Y))"
   ]
  },
  {
   "cell_type": "code",
   "execution_count": 10,
   "id": "7903a712",
   "metadata": {},
   "outputs": [
    {
     "name": "stdout",
     "output_type": "stream",
     "text": [
      "Ttest_relResult(statistic=-1.775592090748118, pvalue=0.17388607394529051)\n",
      "Ttest_indResult(statistic=-2.497480745059398, pvalue=0.04668709887293114)\n"
     ]
    }
   ],
   "source": [
    "from scipy.stats import ttest_ind, ttest_rel\n",
    "\n",
    "X = [1, 2, 3, 4]\n",
    "Y = [6, 5, 4, 3.5]\n",
    "\n",
    "print(ttest_rel(X, Y))\n",
    "print(ttest_ind(X, Y))"
   ]
  },
  {
   "cell_type": "code",
   "execution_count": 9,
   "id": "62dd9518",
   "metadata": {},
   "outputs": [
    {
     "name": "stdout",
     "output_type": "stream",
     "text": [
      "56.89999999999999\n"
     ]
    }
   ],
   "source": [
    "import pandas as pd\n",
    "from scipy.stats import shapiro\n",
    "\n",
    "df = pd.read_csv('breast_cancer_1000_genes.tsv', sep = '\\t', index_col = 0)\n",
    "gene_names = df.shape[0]\n",
    "counter = 0\n",
    "\n",
    "for gene in df.index[0:gene_names]:\n",
    "    pvalue = shapiro(df.loc[gene])\n",
    "    if pvalue[1] > 0.05:\n",
    "        counter += 1\n",
    "print((counter/gene_names)*100)\n"
   ]
  },
  {
   "cell_type": "code",
   "execution_count": 12,
   "id": "22812c1d",
   "metadata": {},
   "outputs": [
    {
     "name": "stdout",
     "output_type": "stream",
     "text": [
      "C17orf96    3.038037e-08\n",
      "IER5L       8.053047e-08\n",
      "FUT1        9.848163e-08\n",
      "CDH3        5.472875e-07\n",
      "FXYD5       8.408204e-07\n",
      "ZNHIT2      1.611916e-06\n",
      "CLCA4       2.305243e-06\n",
      "ACADSB      2.840350e-06\n",
      "MT1F        2.856975e-06\n",
      "PIGN        3.159708e-06\n",
      "Name: pv, dtype: float64 \n",
      "\n",
      "FABP6       2.229382e-38\n",
      "ETV4        1.303693e-34\n",
      "IER5L       4.098579e-30\n",
      "KRT80       1.153207e-29\n",
      "FUT1        1.334136e-26\n",
      "C17orf96    6.986417e-26\n",
      "CLDN1       2.316228e-25\n",
      "ATG9B       1.008252e-24\n",
      "KIAA1257    1.466916e-23\n",
      "SLC51B      1.618420e-23\n",
      "Name: pvalue, dtype: float64\n"
     ]
    }
   ],
   "source": [
    "import pandas as pd\n",
    "from scipy.stats import ttest_ind\n",
    "\n",
    "df1 = pd.read_csv('colon_cancer_tumor_vs_normal_unpaired_FPKM.tsv', sep = '\\t', index_col = 0)\n",
    "df2 = pd.read_csv('DESeq2_results_unpaired.tsv', sep = '\\t', index_col = 0)\n",
    "\n",
    "df1['pv'] = ttest_ind(df1.iloc[:, :5], df1.iloc[:, 5:], axis = 1)[1]\n",
    "df1 = df1.sort_values('pv')\n",
    "\n",
    "print(df1['pv'][:10], '\\n')\n",
    "print(df2['pvalue'][:10])"
   ]
  },
  {
   "cell_type": "code",
   "execution_count": null,
   "id": "99661e41",
   "metadata": {},
   "outputs": [],
   "source": []
  }
 ],
 "metadata": {
  "kernelspec": {
   "display_name": "Python 3 (ipykernel)",
   "language": "python",
   "name": "python3"
  },
  "language_info": {
   "codemirror_mode": {
    "name": "ipython",
    "version": 3
   },
   "file_extension": ".py",
   "mimetype": "text/x-python",
   "name": "python",
   "nbconvert_exporter": "python",
   "pygments_lexer": "ipython3",
   "version": "3.11.7"
  }
 },
 "nbformat": 4,
 "nbformat_minor": 5
}
