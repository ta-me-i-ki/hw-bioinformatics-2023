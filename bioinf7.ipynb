{
 "cells": [
  {
   "cell_type": "code",
   "execution_count": 1,
   "id": "7635f4df",
   "metadata": {},
   "outputs": [
    {
     "name": "stdout",
     "output_type": "stream",
     "text": [
      "     x     PMF\n",
      "0    2  0.0301\n",
      "1    3  0.0532\n",
      "2    4  0.0851\n",
      "3    5  0.1084\n",
      "4    6  0.1405\n",
      "5    7  0.1715\n",
      "6    8  0.1368\n",
      "7    9  0.1036\n",
      "8   10  0.0860\n",
      "9   11  0.0578\n",
      "10  12  0.0270\n"
     ]
    }
   ],
   "source": [
    "# теоретическая часть: всего исходов 36, вероятности получить определенную сумму: 𝑃(2) = 1/36, 𝑃(3) = 2/36\n",
    "# 𝑃(4) = 3/36, 𝑃(5) = 4/36, 𝑃(6) = 5/36, 𝑃(7) = 6/36, 𝑃(8) = 5/36, 𝑃(9) = 4/36, 𝑃(10) = 3/36\n",
    "# 𝑃(11) = 2/36, 𝑃(12) = 1/36\n",
    "\n",
    "import pandas as pd\n",
    "import scipy.stats as sp\n",
    "\n",
    "sum = list(sp.randint.rvs (1, 7, size = 10000) + sp.randint.rvs (1, 7, size = 10000))\n",
    "df = pd.DataFrame ({\"x\" : list(range(2, 13)), \"PMF\": (sum.count(i)/10000 for i in range (2, 13))})\n",
    "\n",
    "print(df)\n",
    "\n",
    "# вообще, результаты сильно похожи"
   ]
  },
  {
   "cell_type": "code",
   "execution_count": null,
   "id": "540106ce",
   "metadata": {},
   "outputs": [],
   "source": [
    "import pandas as pd\n",
    "import scipy.stats as sp\n",
    "import seaborn as sns \n",
    "\n",
    "size = 10000\n",
    "\n",
    "x = sp.expon.rvs(scale = 1/17, size = size)\n",
    "print (f'мат ожидание: {sp.expon.rvs(scale = 1/17).mean()}')\n",
    "print(f'дисперсия: {sp.tvar(x)}')\n",
    "\n",
    "a = list(sp.expon.rvs(scale = 1/17, size = size))\n",
    "df = pd.DataFrame ({'x' : a, 'PDF(x)': [sp.expon(scale = 1/17).pdf(i) for i in a]})\n",
    "\n",
    "sns.lineplot(x = 'x', y = 'PDF(x)', data = df)"
   ]
  },
  {
   "cell_type": "code",
   "execution_count": null,
   "id": "9d58392b",
   "metadata": {},
   "outputs": [],
   "source": [
    "import pandas as pd\n",
    "import scipy.stats as sp\n",
    "import seaborn as sns \n",
    "\n",
    "s = 0\n",
    "for i in range (1, 1000):\n",
    "    s += 1/i**3\n",
    "print(s)\n",
    "\n",
    "df = pd.DataFrame ({\"k\" : list(range(1, 11)), \"PMF\" :  [1/((k**3) * s) for k in range (1, 11)]})\n",
    "sns.barplot(x = 'k', y = 'PMF', data = df)                                                      "
   ]
  }
 ],
 "metadata": {
  "kernelspec": {
   "display_name": "Python 3 (ipykernel)",
   "language": "python",
   "name": "python3"
  },
  "language_info": {
   "codemirror_mode": {
    "name": "ipython",
    "version": 3
   },
   "file_extension": ".py",
   "mimetype": "text/x-python",
   "name": "python",
   "nbconvert_exporter": "python",
   "pygments_lexer": "ipython3",
   "version": "3.11.7"
  }
 },
 "nbformat": 4,
 "nbformat_minor": 5
}
