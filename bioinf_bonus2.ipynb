{
 "cells": [
  {
   "cell_type": "code",
   "execution_count": 9,
   "id": "d761481a",
   "metadata": {},
   "outputs": [
    {
     "name": "stdout",
     "output_type": "stream",
     "text": [
      "Среднее время в вершине green: 0.3566069651741294\n",
      "Среднее время в вершине blue: 0.21350248756218906\n",
      "Среднее время в вершине orange: 0.21508457711442786\n",
      "Среднее время в вершине red: 0.21480597014925373\n"
     ]
    }
   ],
   "source": [
    "import random\n",
    "\n",
    "graph = {'green': ['blue', 'blue', 'orange', 'red', 'red'], 'blue': ['green', 'orange', 'green'], \n",
    "         'orange': ['blue', 'green', 'red'], \n",
    "         'red': ['orange', 'green', 'green']}\n",
    "\n",
    "current_point = random.choice(list(graph.keys()))\n",
    "\n",
    "time_counter = {'green': 0, 'orange': 0, 'blue': 0, 'red': 0}  \n",
    "for i in range(100500):\n",
    "    next_point = random.choice(graph[current_point])  \n",
    "    current_point = next_point  \n",
    "    time_counter[current_point] += 1  \n",
    "\n",
    "for point in graph.keys():\n",
    "    avg_time = time_counter[point] / 100500\n",
    "    print(f\"Среднее время в вершине {point}: {avg_time}\")"
   ]
  }
 ],
 "metadata": {
  "kernelspec": {
   "display_name": "Python 3 (ipykernel)",
   "language": "python",
   "name": "python3"
  },
  "language_info": {
   "codemirror_mode": {
    "name": "ipython",
    "version": 3
   },
   "file_extension": ".py",
   "mimetype": "text/x-python",
   "name": "python",
   "nbconvert_exporter": "python",
   "pygments_lexer": "ipython3",
   "version": "3.11.7"
  }
 },
 "nbformat": 4,
 "nbformat_minor": 5
}
